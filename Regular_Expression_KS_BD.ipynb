{
 "cells": [
  {
   "cell_type": "markdown",
   "metadata": {},
   "source": [
    "**Contents:**\n",
    "* [Finding Patterns in Text](#0)\n",
    "* [Preprocessing using Regex](#1)\n",
    "* [Intro to re Module](#2)\n",
    "* [Validating Phone Numbers with Python](#3)\n",
    "* [Parsing URLs](#4)\n",
    "* [Parsing Binary](#5)\n",
    "* [Symbolic Group Names](#6)\n",
    "* [Date Parsing](#7)\n",
    "* [REGEX Compilation Flags](#8)\n",
    "* [REGEX Substitution Basics](#9)\n",
    "* [REGEX Profanity Filter](#10)\n",
    "* [Swapping File Names](#11)\n",
    "* [](#12)"
   ]
  },
  {
   "cell_type": "markdown",
   "metadata": {},
   "source": [
    "<a id='0'></a>\n",
    "## Finding Patterns in Text\n",
    "\n",
    "https://pythex.org/"
   ]
  },
  {
   "cell_type": "code",
   "execution_count": 134,
   "metadata": {
    "collapsed": true
   },
   "outputs": [],
   "source": [
    "import re"
   ]
  },
  {
   "cell_type": "code",
   "execution_count": 135,
   "metadata": {},
   "outputs": [
    {
     "data": {
      "text/plain": [
       "<_sre.SRE_Match object; span=(0, 27), match='I was born in the year 1996'>"
      ]
     },
     "execution_count": 135,
     "metadata": {},
     "output_type": "execute_result"
    }
   ],
   "source": [
    "sentence = \"I was born in the year 1996\"\n",
    "re.match(r\".*\", sentence) #.=any character; *=0 or more"
   ]
  },
  {
   "cell_type": "code",
   "execution_count": 136,
   "metadata": {
    "collapsed": true
   },
   "outputs": [],
   "source": [
    "sentence =\"\"\n",
    "re.match(r\".+\", sentence) #.=any character; +=1 or more; return nothing"
   ]
  },
  {
   "cell_type": "code",
   "execution_count": 137,
   "metadata": {},
   "outputs": [
    {
     "data": {
      "text/plain": [
       "<_sre.SRE_Match object; span=(0, 1), match='I'>"
      ]
     },
     "execution_count": 137,
     "metadata": {},
     "output_type": "execute_result"
    }
   ],
   "source": [
    "sentence = \"I was born in the year 1996\"\n",
    "re.match(r\"[a-zA-Z]+\", sentence) #looks at the first match in the sentence"
   ]
  },
  {
   "cell_type": "code",
   "execution_count": 138,
   "metadata": {},
   "outputs": [
    {
     "data": {
      "text/plain": [
       "<_sre.SRE_Match object; span=(0, 1), match='a'>"
      ]
     },
     "execution_count": 138,
     "metadata": {},
     "output_type": "execute_result"
    }
   ],
   "source": [
    "sentence = \"a\"\n",
    "re.match(r\"ab?\",sentence) #match a, then 0 or exactly 1 \"b\""
   ]
  },
  {
   "cell_type": "code",
   "execution_count": 139,
   "metadata": {},
   "outputs": [
    {
     "data": {
      "text/plain": [
       "<_sre.SRE_Match object; span=(0, 2), match='ab'>"
      ]
     },
     "execution_count": 139,
     "metadata": {},
     "output_type": "execute_result"
    }
   ],
   "source": [
    "sentence = \"ab\"\n",
    "re.match(r\"ab?\",sentence) #match a, then 0 or exactly 1 \"b\""
   ]
  },
  {
   "cell_type": "code",
   "execution_count": 140,
   "metadata": {},
   "outputs": [
    {
     "data": {
      "text/plain": [
       "<_sre.SRE_Match object; span=(0, 2), match='ab'>"
      ]
     },
     "execution_count": 140,
     "metadata": {},
     "output_type": "execute_result"
    }
   ],
   "source": [
    "sentence = \"abb\"\n",
    "re.match(r\"ab?\",sentence) #match a, then 0 or exactly 1 \"b\""
   ]
  },
  {
   "cell_type": "code",
   "execution_count": 141,
   "metadata": {
    "collapsed": true
   },
   "outputs": [],
   "source": [
    "sentence = \"b\"\n",
    "re.match(r\"ab?\",sentence) #match a, then 0 or exactly 1 \"b\", no response cause looking for a or ab, not b"
   ]
  },
  {
   "cell_type": "code",
   "execution_count": 142,
   "metadata": {
    "collapsed": true
   },
   "outputs": [],
   "source": [
    "sentence = \"1996 was the year when I was born\"\n",
    "re.match(r\"[a-zA-Z]+\", sentence) #local search, no response because sentence starts with 1996, not text"
   ]
  },
  {
   "cell_type": "code",
   "execution_count": 143,
   "metadata": {},
   "outputs": [
    {
     "data": {
      "text/plain": [
       "<_sre.SRE_Match object; span=(5, 8), match='was'>"
      ]
     },
     "execution_count": 143,
     "metadata": {},
     "output_type": "execute_result"
    }
   ],
   "source": [
    "sentence = \"1996 was the year when I was born\"\n",
    "re.search(r\"[a-zA-Z]+\", sentence) #global search"
   ]
  },
  {
   "cell_type": "code",
   "execution_count": 144,
   "metadata": {},
   "outputs": [
    {
     "name": "stdout",
     "output_type": "stream",
     "text": [
      "Match\n"
     ]
    }
   ],
   "source": [
    "#Starts with (^)\n",
    "sentence = \"1996 was the year when I was born\"\n",
    "\n",
    "if re.match(r\"^1996\", sentence):\n",
    "\tprint(\"Match\")\n",
    "else:\n",
    "\tprint(\"No match\")"
   ]
  },
  {
   "cell_type": "code",
   "execution_count": 145,
   "metadata": {},
   "outputs": [
    {
     "name": "stdout",
     "output_type": "stream",
     "text": [
      "No match\n"
     ]
    }
   ],
   "source": [
    "sentence = \"1996 was the year when I was born\"\n",
    "if re.match(r\"^The\", sentence):\n",
    "\tprint(\"Match\")\n",
    "else:\n",
    "\tprint(\"No match\")"
   ]
  },
  {
   "cell_type": "code",
   "execution_count": 146,
   "metadata": {},
   "outputs": [
    {
     "name": "stdout",
     "output_type": "stream",
     "text": [
      "Match\n"
     ]
    }
   ],
   "source": [
    "sentence = \"1996 was the year when I was born\"\n",
    "#Ends with ($) search, not match\n",
    "if re.search(r\"born$\", sentence):\n",
    "\tprint(\"Match\")\n",
    "else:\n",
    "\tprint(\"No match\")"
   ]
  },
  {
   "cell_type": "code",
   "execution_count": 147,
   "metadata": {},
   "outputs": [
    {
     "name": "stdout",
     "output_type": "stream",
     "text": [
      "I love Justice League\n"
     ]
    }
   ],
   "source": [
    "sentence = \"I love Avengers\"\n",
    "print(re.sub(r\"Avengers\", \"Justice League\", sentence))"
   ]
  },
  {
   "cell_type": "code",
   "execution_count": 148,
   "metadata": {},
   "outputs": [
    {
     "name": "stdout",
     "output_type": "stream",
     "text": [
      "I love Justice League Justice League\n"
     ]
    }
   ],
   "source": [
    "sentence = \"I love Avengers Avengers\"\n",
    "print(re.sub(r\"Avengers\", \"Justice League\", sentence))"
   ]
  },
  {
   "cell_type": "code",
   "execution_count": 149,
   "metadata": {},
   "outputs": [
    {
     "name": "stdout",
     "output_type": "stream",
     "text": [
      "I 0000 A0000000 A0000000\n",
      "0 0000 00000000 00000000\n",
      "0 0000 00000000 00000000\n",
      "0 love Avengers Avengers\n",
      "0 0000 Avengers Avengers\n"
     ]
    }
   ],
   "source": [
    "sentence = \"I love Avengers Avengers\"\n",
    "print(re.sub(r\"[a-z]\", \"0\", sentence))\n",
    "print(re.sub(r\"[a-zA-Z]\", \"0\", sentence))\t\n",
    "print(re.sub(r\"[a-zA-Z]\", \"0\", sentence, flags=re.I)) #case insensitive\n",
    "print(re.sub(r\"[a-zA-Z]\", \"0\", sentence, 1, flags=re.I)) #only one occurence\n",
    "print(re.sub(r\"[a-zA-Z]\", \"0\", sentence, 5, flags=re.I)) #only one occurence"
   ]
  },
  {
   "cell_type": "code",
   "execution_count": 150,
   "metadata": {},
   "outputs": [
    {
     "data": {
      "text/plain": [
       "'Welcome to the year '"
      ]
     },
     "execution_count": 150,
     "metadata": {},
     "output_type": "execute_result"
    }
   ],
   "source": [
    "sentence1 = \"Welcome to the year 2018\"\n",
    "sentence2 = \"Just ~% +++--- arrived at @Jack's place. #fun\"\n",
    "sentence3 = \"I                   Love                you\"\n",
    "\n",
    "sentence1_modified = re.sub(r\"\\d\",\"\",sentence1) #replaces digits with empty string\n",
    "sentence1_modified"
   ]
  },
  {
   "cell_type": "code",
   "execution_count": 151,
   "metadata": {},
   "outputs": [
    {
     "data": {
      "text/plain": [
       "'Just arrived at Jacks place fun'"
      ]
     },
     "execution_count": 151,
     "metadata": {},
     "output_type": "execute_result"
    }
   ],
   "source": [
    "sentence2 = \"Just ~% +++--- arrived at @Jack's place. #fun\"\n",
    "sentence2_modified = re.sub(r\"[%@#~+\\-\\.']\",\"\",sentence2) #replaces @#~+-. with empty string\n",
    "sentence2_modified = re.sub(r\"\\s+\",\" \",sentence2_modified)\n",
    "sentence2_modified"
   ]
  },
  {
   "cell_type": "code",
   "execution_count": 152,
   "metadata": {},
   "outputs": [
    {
     "data": {
      "text/plain": [
       "\"     ~% +++---            @    '       . #   \""
      ]
     },
     "execution_count": 152,
     "metadata": {},
     "output_type": "execute_result"
    }
   ],
   "source": [
    "sentence2 = \"Just ~% +++--- arrived at @Jack's place. #fun\"\n",
    "sentence2_modified = re.sub(r\"[\\w]\",\" \",sentence2) #replaces a-zA-Z0-9 with empty string\n",
    "sentence2_modified"
   ]
  },
  {
   "cell_type": "code",
   "execution_count": 153,
   "metadata": {},
   "outputs": [
    {
     "data": {
      "text/plain": [
       "'Just           arrived at  Jack s place   fun'"
      ]
     },
     "execution_count": 153,
     "metadata": {},
     "output_type": "execute_result"
    }
   ],
   "source": [
    "sentence2 = \"Just ~% +++--- arrived at @Jack's place. #fun\"\n",
    "sentence2_modified = re.sub(r\"[\\W]\",\" \",sentence2) #replaces \"not a word char\" with empty string\n",
    "sentence2_modified"
   ]
  },
  {
   "cell_type": "code",
   "execution_count": 154,
   "metadata": {},
   "outputs": [
    {
     "data": {
      "text/plain": [
       "'Just arrived at Jack s place fun'"
      ]
     },
     "execution_count": 154,
     "metadata": {},
     "output_type": "execute_result"
    }
   ],
   "source": [
    "sentence2 = \"Just ~% +++--- arrived at @Jack's place. #fun\"\n",
    "sentence2_modified = re.sub(r\"\\s+\",\" \",sentence2_modified) #replaces one or more space with a single space\n",
    "sentence2_modified"
   ]
  },
  {
   "cell_type": "code",
   "execution_count": 155,
   "metadata": {},
   "outputs": [
    {
     "data": {
      "text/plain": [
       "'Just arrived at Jack place fun'"
      ]
     },
     "execution_count": 155,
     "metadata": {},
     "output_type": "execute_result"
    }
   ],
   "source": [
    "sentence2 = \"Just ~% +++--- arrived at @Jack's place. #fun\"\n",
    "sentence2_modified = re.sub(r\"\\s+[a-zA-Z]\\s+\",\" \",sentence2_modified) #replaces _s_ with single space\n",
    "sentence2_modified"
   ]
  },
  {
   "cell_type": "code",
   "execution_count": 156,
   "metadata": {},
   "outputs": [
    {
     "data": {
      "text/plain": [
       "'I Love you'"
      ]
     },
     "execution_count": 156,
     "metadata": {},
     "output_type": "execute_result"
    }
   ],
   "source": [
    "sentence3 = \"I                   Love                you\"\n",
    "sentence3_modified = re.sub(r\"\\s+\",\" \", sentence3) #replace spaces with one space\n",
    "sentence3_modified"
   ]
  },
  {
   "cell_type": "code",
   "execution_count": 157,
   "metadata": {},
   "outputs": [
    {
     "data": {
      "text/plain": [
       "'I hate you'"
      ]
     },
     "execution_count": 157,
     "metadata": {},
     "output_type": "execute_result"
    }
   ],
   "source": [
    "sentence3 = \"I                   Love                you\"\n",
    "sentence3_modified = re.sub(r\"\\s+Love\\s+\",\" hate \", sentence3) #replace Love with hate\n",
    "sentence3_modified"
   ]
  },
  {
   "cell_type": "markdown",
   "metadata": {},
   "source": [
    "<a id='1'></a>\n",
    "## Preprocessing using Regex"
   ]
  },
  {
   "cell_type": "code",
   "execution_count": 158,
   "metadata": {},
   "outputs": [
    {
     "data": {
      "text/plain": [
       "['This is wolf scary',\n",
       " 'Welcome to the jungle missing',\n",
       " 'the number to know',\n",
       " 'Remember the name John',\n",
       " 'I Love you']"
      ]
     },
     "execution_count": 158,
     "metadata": {},
     "output_type": "execute_result"
    }
   ],
   "source": [
    "X = [\"This is a wolf #scary\",\n",
    "\t\"Welcome to the jungle #missing\",\n",
    "\t\"11322 the number to know\",\n",
    "\t\"Remember the name s - John\",\n",
    "\t\"I           Love           you\"]\n",
    "\t\n",
    "for i in range(0, len(X)):\n",
    "\tX[i] = re.sub(r\"\\W\",\" \",X[i])  #remove all non-word characters\n",
    "\tX[i] = re.sub(r\"\\d\",\" \",X[i]) #remove all digits\n",
    "\tX[i] = re.sub(r\"\\s+[a-z]\\s+\",\" \", X[i], flags=re.I) #remove all single characters\n",
    "\tX[i] = re.sub(r\"\\s+\",\" \", X[i])\n",
    "\tX[i] = re.sub(r\"^\\s\",\"\", X[i])\n",
    "\tX[i] = re.sub(r\"\\s$\",\"\", X[i])\n",
    "X"
   ]
  },
  {
   "cell_type": "markdown",
   "metadata": {},
   "source": [
    "<a id='2'></a>\n",
    "## Intro to re Module"
   ]
  },
  {
   "cell_type": "code",
   "execution_count": 159,
   "metadata": {
    "collapsed": true
   },
   "outputs": [],
   "source": [
    "#define our phone number regex\n",
    "phone_pattern = re.compile(r'\\d{3} \\d{3}-\\d{4}')"
   ]
  },
  {
   "cell_type": "code",
   "execution_count": 160,
   "metadata": {},
   "outputs": [
    {
     "data": {
      "text/plain": [
       "'415 555-4242'"
      ]
     },
     "execution_count": 160,
     "metadata": {},
     "output_type": "execute_result"
    }
   ],
   "source": [
    "#search a string with our regex\n",
    "res = phone_pattern.search('Call me at 415 555-4242!') #first match\n",
    "res.group()"
   ]
  },
  {
   "cell_type": "code",
   "execution_count": 161,
   "metadata": {},
   "outputs": [
    {
     "data": {
      "text/plain": [
       "['415 555-4242', '310 234-9999']"
      ]
     },
     "execution_count": 161,
     "metadata": {},
     "output_type": "execute_result"
    }
   ],
   "source": [
    "res = phone_pattern.findall('Call me at 415 555-4242! or 310 234-9999') #all matches\n",
    "res"
   ]
  },
  {
   "cell_type": "markdown",
   "metadata": {},
   "source": [
    "<a id='3'></a>\n",
    "## Validating Phone Numbers with Python"
   ]
  },
  {
   "cell_type": "code",
   "execution_count": 162,
   "metadata": {},
   "outputs": [
    {
     "ename": "SyntaxError",
     "evalue": "invalid syntax (<ipython-input-162-a24e6b14e8ec>, line 5)",
     "output_type": "error",
     "traceback": [
      "\u001b[1;36m  File \u001b[1;32m\"<ipython-input-162-a24e6b14e8ec>\"\u001b[1;36m, line \u001b[1;32m5\u001b[0m\n\u001b[1;33m    rerturn match.groupo()\u001b[0m\n\u001b[1;37m                ^\u001b[0m\n\u001b[1;31mSyntaxError\u001b[0m\u001b[1;31m:\u001b[0m invalid syntax\n"
     ]
    }
   ],
   "source": [
    "def extract_phone(input):\n",
    "    phone_regex = re.compile(r'\\b\\d{3} \\d{3}-\\d{4}\\b')\n",
    "    match = phone_regex.search(input)\n",
    "    if match:\n",
    "        rerturn match.groupo()\n",
    "    return None\n",
    "\n",
    "print(extract_phone(\"my number is 432 567 8976\"))\n",
    "print(extract_phone(\"my number is 432 567 897622\"))\n",
    "print(extract_phone(\"my number is 432 567 897622 asdjhasd\"))\n",
    "print(extract_phone(\"432 567 897622\"))"
   ]
  },
  {
   "cell_type": "code",
   "execution_count": null,
   "metadata": {
    "collapsed": true
   },
   "outputs": [],
   "source": [
    "def extract_all_phone(input):\n",
    "\tphone_regex = re.compile(r'\\b\\d{3} \\d{3}-\\d{4}\\b')\n",
    "\treturn phone_regex.findall(input)\n",
    "\n",
    "print(extract_all_phone(\"my number is 432 567 8976 or call me at 345 666-7899\"))\n",
    "print(extract_all_phone(\"my number is 432 567 89\")"
   ]
  },
  {
   "cell_type": "code",
   "execution_count": null,
   "metadata": {
    "collapsed": true
   },
   "outputs": [],
   "source": [
    "# def is_valid_phone(input):\n",
    "#     phone_regex = re.compile(r'^\\d{3} \\d{3}-\\d{4}$')\n",
    "#     match = phone_regex.search(input)\n",
    "#     if match:\n",
    "#         return True\n",
    "#     return False\n",
    "\n",
    "def is_valid_phone(input):\n",
    "    phone_regex = re.compile(r'\\d{3} \\d{3}-\\d{4}')\n",
    "    match = phone_regex.fullmatch(input)\n",
    "    if match:\n",
    "        return True\n",
    "    return False\n",
    "\n",
    "print(is_valid_phone(\"432 567-8976\"))\n",
    "print(is_valid_phone(\"432 567-8976 ads\"))\n",
    "print(is_valid_phone(\"432 567-8976 d\"))"
   ]
  },
  {
   "cell_type": "code",
   "execution_count": null,
   "metadata": {
    "collapsed": true
   },
   "outputs": [],
   "source": [
    "# Don't forget to import re!\n",
    "#The time must start with a digit, and there can be a second optional digit before the colon.  \n",
    "#Then there's the colon and two mandatory digits.  I used ^ and $ to make sure the time was the only thing in the input string.\n",
    "\n",
    "import re\n",
    "# Define is_valid_time below:\n",
    "# def is_valid_time(input):\n",
    "#     time_regex = re.compile(r'^(\\d{1}|\\d{2}):\\d{2}$')\n",
    "#     match = time_regex.search(input)\n",
    "#     if match:\n",
    "#         return True\n",
    "#     return False\n",
    "\n",
    "\n",
    "def is_valid_time(input):\n",
    "    pattern = re.compile(r'^\\d\\d?:\\d\\d$')\n",
    "    match = pattern.search(input)\n",
    "    if match:\n",
    "        return True\n",
    "    return False\n",
    "\n",
    "print(is_valid_time(\"10:45\"))\n",
    "print(is_valid_time(\"1:23\"))\n",
    "print(is_valid_time(\"18.45\"))\n",
    "print(is_valid_time(\"145:23\"))\n",
    "print(is_valid_time(\"it is 12:15\"))"
   ]
  },
  {
   "cell_type": "markdown",
   "metadata": {},
   "source": [
    "<a id='4'></a>\n",
    "## Parsing URLs"
   ]
  },
  {
   "cell_type": "code",
   "execution_count": null,
   "metadata": {
    "collapsed": true
   },
   "outputs": [],
   "source": [
    "url_regex = re.compile(r'(https?)://(www\\.[A-Za-z-]{2,256}\\.[a-z]{2,6})([-a-zA-Z0-9@;%_\\+.~#&//=]*)')\n",
    "match = url_regex.search(\"http://www.youtube.com/videos/asd/das/asd\")\n",
    "print(match.group())\n",
    "print(match.group(0))\n",
    "print(f\"Protocal: {match.group(1)}\")\n",
    "print(f\"Domain: {match.group(2)}\")\n",
    "print(f\"Everyting Else: {match.group(3)}\")\n",
    "print(match.groups())"
   ]
  },
  {
   "cell_type": "code",
   "execution_count": null,
   "metadata": {
    "collapsed": true
   },
   "outputs": [],
   "source": [
    "match = url_regex.search(\"http://www.my-website.com/bio?data=blah&cat=yes\")\n",
    "print(match.group())\n",
    "print(match.group(0))\n",
    "print(f\"Protocal: {match.group(1)}\")\n",
    "print(f\"Domain: {match.group(2)}\")\n",
    "print(f\"Everyting Else: {match.group(3)}\")\n",
    "print(match.groups())"
   ]
  },
  {
   "cell_type": "markdown",
   "metadata": {},
   "source": [
    "<a id='5'></a>\n",
    "## Parsing Binary"
   ]
  },
  {
   "cell_type": "code",
   "execution_count": null,
   "metadata": {
    "collapsed": true
   },
   "outputs": [],
   "source": [
    "#My regex looks like this: '\\b[10]{8}\\b'   It consists of eight 1s or 0s, surrounded by word boundaries on either side.  \n",
    "#Remember a word boundary is either a space or the start/end of a line.\n",
    "\n",
    "I then used findall  rather than search, to return a list of all matches.\n",
    "\n",
    "# define parse_bytes below:\n",
    "def parse_bytes(input):\n",
    "    binary_regex = re.compile(r'\\b\\[10]{8}\\b')\n",
    "    results = binary_regex.findall(input)\n",
    "    return results"
   ]
  },
  {
   "cell_type": "markdown",
   "metadata": {},
   "source": [
    "<a id='6'></a>\n",
    "## Symbolic Group Names"
   ]
  },
  {
   "cell_type": "code",
   "execution_count": null,
   "metadata": {
    "collapsed": true
   },
   "outputs": [],
   "source": [
    "def parse_name(input):\n",
    "\tname_regex = re.compile(r'^(Mr\\.|Mrs\\.|Ms\\.|Mdme\\.) ([A-Za-z]+) ([A-Za-z]+)$')\n",
    "\tmatches = name_regex.search(input)\n",
    "\tprint(matches.groups())\n",
    "\n",
    "parse_name(\"Mrs. Tilda Swinton\")"
   ]
  },
  {
   "cell_type": "code",
   "execution_count": null,
   "metadata": {
    "collapsed": true
   },
   "outputs": [],
   "source": [
    "# def parse_first_name(input):\n",
    "# \tname_regex = re.compile(r'^(Mr\\.|Mrs\\.|Ms\\.|Mdme\\.) ([A-Za-z]+) ([A-Za-z]+)$')\n",
    "# \tmatches = name_regex.search(input)\n",
    "# \tprint(matches.group(2))\n",
    "\n",
    "def parse_name_pieces(input):\n",
    "\tname_regex = re.compile(r'^(Mr\\.|Mrs\\.|Ms\\.|Mdme\\.) (?P<first>[A-Za-z]+) (?P<last>[A-Za-z]+)$')\n",
    "\tmatches = name_regex.search(input)\n",
    "\tprint(matches.group())\n",
    "\tprint(matches.group('first'))\n",
    "\tprint(matches.group('last'))\n",
    "    \n",
    "parse_name_pieces(\"Mrs. Tilda Swinton\")"
   ]
  },
  {
   "cell_type": "markdown",
   "metadata": {},
   "source": [
    "<a id='7'></a>\n",
    "## Date Parsing"
   ]
  },
  {
   "cell_type": "code",
   "execution_count": null,
   "metadata": {
    "collapsed": true
   },
   "outputs": [],
   "source": [
    "#define parse_date below\n",
    "def parse_date(input):\n",
    "    date_regex = re.compile(r'^([0-9]{2})[.,/]([0-9]{2})[.,/]([0-9]{4})$')\n",
    "    match = date_regex.search(input)\n",
    "    print(f\"m: {match.group(1)}\")\n",
    "    print(f\"d: {match.group(2)}\")\n",
    "    print(f\"y: {match.group(3)}\")\n",
    "\n",
    "parse_date(\"12,04,2003\")"
   ]
  },
  {
   "cell_type": "code",
   "execution_count": null,
   "metadata": {
    "collapsed": true
   },
   "outputs": [],
   "source": [
    "# define parse_date below\n",
    "def parse_date(input):\n",
    "    date_regex = re.compile(r'^(\\d\\d)[\\.,/](\\d\\d)[\\.,/](\\d\\d\\d\\d)$')\n",
    "    match = date_regex.search(input)\n",
    "    if match:\n",
    "        return {\n",
    "            \"d\": match.group(1),\n",
    "            \"m\": match.group(2),\n",
    "            \"y\": match.group(3),\n",
    "        }\n",
    "    return None\n",
    "\n",
    "parse_date(\"12,04,2003\")"
   ]
  },
  {
   "cell_type": "markdown",
   "metadata": {},
   "source": [
    "<a id='8'></a>\n",
    "## REGEX Compilation Flags"
   ]
  },
  {
   "cell_type": "code",
   "execution_count": null,
   "metadata": {
    "collapsed": true
   },
   "outputs": [],
   "source": [
    "pat = re.compile(r'^([a-z0-9_\\.-]+)@([0-9a-z\\,-]+)\\.([a-z\\.]{2,6})$')"
   ]
  },
  {
   "cell_type": "code",
   "execution_count": null,
   "metadata": {
    "collapsed": true
   },
   "outputs": [],
   "source": [
    "pattern = re.compile(r\"\"\"\n",
    "\t^([a-z0-9_\\.-]+) #username\n",
    "\t@\t\t\t\t#single at sign\n",
    "\t([0-9a-z\\,-]+)\t#e-mail provider\n",
    "\t\\.\t\t\t\t#single period\n",
    "\t([a-z\\.]{2,6})$\t#com, org, net, etc.\n",
    "\"\"\", re.X)\n",
    "\n",
    "match = pattern.search(\"thomas123@yahoo.com\")\n",
    "print(match.group())\n",
    "print(match.groups())"
   ]
  },
  {
   "cell_type": "code",
   "execution_count": null,
   "metadata": {
    "collapsed": true
   },
   "outputs": [],
   "source": [
    "#re.VERBOSE | re.IGNORECASE\n",
    "pattern = re.compile(r\"\"\"\n",
    "    ^([a-z0-9_\\.-]+) #username\n",
    "    @\t\t\t\t#single at sign\n",
    "    ([0-9a-z\\,-]+)\t#e-mail provider\n",
    "    \\.\t\t\t\t#single period\n",
    "    ([a-z\\.]{2,6})$\t#com, org, net, etc.\n",
    "\"\"\", re.VERBOSE | re.IGNORECASE)\n",
    "\n",
    "match = pattern.search(\"thomas123@yahoo.com\")\n",
    "print(match.group())\n",
    "print(match.groups())"
   ]
  },
  {
   "cell_type": "code",
   "execution_count": null,
   "metadata": {
    "collapsed": true
   },
   "outputs": [],
   "source": [
    "#re.X | re.I\n",
    "pattern = re.compile(r\"\"\"\n",
    "\t^([a-z0-9_\\.-]+) #username\n",
    "\t@\t\t\t\t#single at sign\n",
    "\t([0-9a-z\\,-]+)\t#e-mail provider\n",
    "\t\\.\t\t\t\t#single period\n",
    "\t([a-z\\.]{2,6})$\t#com, org, net, etc.\n",
    "\"\"\", re.X | re.I)\n",
    "\n",
    "match = pattern.search(\"thomas123@yahoo.com\")\n",
    "print(match.group())\n",
    "print(match.groups())"
   ]
  },
  {
   "cell_type": "markdown",
   "metadata": {},
   "source": [
    "<a id='9'></a>\n",
    "## REGEX Substitution Basics"
   ]
  },
  {
   "cell_type": "code",
   "execution_count": null,
   "metadata": {
    "collapsed": true
   },
   "outputs": [],
   "source": [
    "text = \"Last night Mrs. Daisy and Mr. White murdered Ms. Chow\"\n",
    "\n",
    "pattern = re.compile(r'(Mr\\.|Mrs\\.|Ms\\.) ([a-z])[a-z]+', re.I)\n",
    "print(pattern.findall(text))\n",
    "print(pattern.search(text).group())"
   ]
  },
  {
   "cell_type": "code",
   "execution_count": null,
   "metadata": {
    "collapsed": true
   },
   "outputs": [],
   "source": [
    "pattern = re.compile(r'(Mr\\.|Mrs\\.|Ms\\.) ([a-z])[a-z]+', re.I)\n",
    "result = pattern.sub(\"REDACTED\", text)\n",
    "print(result)"
   ]
  },
  {
   "cell_type": "code",
   "execution_count": null,
   "metadata": {
    "collapsed": true
   },
   "outputs": [],
   "source": [
    "pattern = re.compile(r'(Mr\\.|Mrs\\.|Ms\\.) ([a-z])[a-z]+', re.I)\n",
    "result = pattern.sub(\"\\g<1> \\g<2>\", text)\n",
    "print(result)"
   ]
  },
  {
   "cell_type": "markdown",
   "metadata": {},
   "source": [
    "<a id='10'></a>\n",
    "## REGEX Profanity Filter"
   ]
  },
  {
   "cell_type": "code",
   "execution_count": null,
   "metadata": {
    "collapsed": true
   },
   "outputs": [],
   "source": [
    "def censor(text):\n",
    "    pattern = re.compile(r'[a-z]{5,8}', re.I)\n",
    "    result = pattern.sub(\"CENSORED\", text)\n",
    "    return result"
   ]
  },
  {
   "cell_type": "code",
   "execution_count": null,
   "metadata": {
    "collapsed": true
   },
   "outputs": [],
   "source": [
    "censor(\"Frack you\")"
   ]
  },
  {
   "cell_type": "code",
   "execution_count": null,
   "metadata": {
    "collapsed": true
   },
   "outputs": [],
   "source": [
    "censor(\"I hope you fracking die\")"
   ]
  },
  {
   "cell_type": "code",
   "execution_count": null,
   "metadata": {
    "collapsed": true
   },
   "outputs": [],
   "source": [
    "#It looks for a word boundary and then the letters \"frack\" and then optionally more word characters afterwards, and \n",
    "#then a word boundary again.  I used the word boundaries to prevent false positives if the \"frack\" occurs in the middle of \n",
    "#another word.s\n",
    "\n",
    "def censor(input):\n",
    "    pattern = re.compile(r'\\bfrack\\w*\\b', re.IGNORECASE)\n",
    "    return pattern.sub(\"CENSORED\", input)"
   ]
  },
  {
   "cell_type": "code",
   "execution_count": null,
   "metadata": {
    "collapsed": true
   },
   "outputs": [],
   "source": [
    "censor(\"Frack you\")"
   ]
  },
  {
   "cell_type": "code",
   "execution_count": null,
   "metadata": {
    "collapsed": true
   },
   "outputs": [],
   "source": [
    "censor(\"I hope you fracking die\")"
   ]
  },
  {
   "cell_type": "markdown",
   "metadata": {},
   "source": [
    "<a id='11'></a>\n",
    "## Swapping File Names"
   ]
  },
  {
   "cell_type": "code",
   "execution_count": null,
   "metadata": {
    "collapsed": true
   },
   "outputs": [],
   "source": [
    "titles = [\n",
    "\t\"Significant Others (1987)\",\n",
    "\t\"Tales of the City (1978)\",\n",
    "\t\"The Days of Anna Madrigal (2014)\",\n",
    "\t\"Mary Ann in Autumn (2010)\",\n",
    "\t\"Further Tales of the City (1982)\",\n",
    "\t\"Babycakes (1984)\",\n",
    "\t\"More Tales of the City (1980)\",\n",
    "\t\"Sure of You (1989)\",\n",
    "\t\"Michael Tolliver Lives (2007)\"\n",
    "]\n",
    "titles.sort()\n",
    "print(titles)"
   ]
  },
  {
   "cell_type": "code",
   "execution_count": null,
   "metadata": {
    "collapsed": true
   },
   "outputs": [],
   "source": [
    "pattern = re.compile(r'(?P<title>^[\\w ]+) \\((?P<date>\\d{4})\\)')\n",
    "result = pattern.sub(\"\\g<date> - \\g<title>\", titles[0])\n",
    "print(result)"
   ]
  },
  {
   "cell_type": "code",
   "execution_count": null,
   "metadata": {
    "collapsed": true
   },
   "outputs": [],
   "source": [
    "titles.sort()\n",
    "fixed_titles = []\n",
    "\n",
    "for book in titles:\n",
    "\tresult = pattern.sub(\"\\g<2> - \\g<1>\", book)\n",
    "\tfixed_titles.append(result)\n",
    "fixed_titles.sort()\n",
    "print(fixed_titles)"
   ]
  },
  {
   "cell_type": "code",
   "execution_count": null,
   "metadata": {
    "collapsed": true
   },
   "outputs": [],
   "source": []
  }
 ],
 "metadata": {
  "kernelspec": {
   "display_name": "Python 3",
   "language": "python",
   "name": "python3"
  },
  "language_info": {
   "codemirror_mode": {
    "name": "ipython",
    "version": 3
   },
   "file_extension": ".py",
   "mimetype": "text/x-python",
   "name": "python",
   "nbconvert_exporter": "python",
   "pygments_lexer": "ipython3",
   "version": "3.6.3"
  }
 },
 "nbformat": 4,
 "nbformat_minor": 2
}
